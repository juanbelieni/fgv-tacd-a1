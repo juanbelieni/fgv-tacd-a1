{
 "cells": [
  {
   "cell_type": "markdown",
   "metadata": {},
   "source": [
    "# Part 4 – Model Comparison\n"
   ]
  },
  {
   "cell_type": "markdown",
   "metadata": {},
   "source": [
    "1 - For the classification problem (you developed the estimator in Part 2) you will use all the\n",
    "numerical features and predict the “cut”. The steps to implement are:\n",
    "\n",
    "- Select 3 classifiers from the scikit-learn library (you can pick any classifier of your choice,\n",
    "  including those not seen in class yet).\n",
    "- For each model (your model as well as the scikit-learn ones), use the training and\n",
    "  validation sets to choose the best hyperparameters.\n",
    "- Combine the training and validation sets into a single set and use it to train the models\n",
    "  with the chosen hyperparameters.\n",
    "- Compare the performance of the different estimators using the accuracy score.\n",
    "- Make a plot that shows this comparison (here you can use any type of plot you like, as\n",
    "  long as the comparison is clear).\n"
   ]
  },
  {
   "cell_type": "code",
   "execution_count": null,
   "metadata": {},
   "outputs": [],
   "source": [
    "# Doing everything done in part-2.ipynb\n",
    "\n",
    "import pandas as pd\n",
    "import numpy as np\n",
    "from sklearn.base import BaseEstimator\n",
    "\n",
    "diamonds_dataset = pd.read_csv(\"../data/diamonds.csv\")\n",
    "\n",
    "n = len(diamonds_dataset)\n",
    "splits = [int(0.8 * n), int(0.9 * n)]\n",
    "training, validation, testing = np.split(diamonds_dataset.sample(frac=1), splits)\n",
    "\n",
    "\n",
    "class KNNClassifier(BaseEstimator):\n",
    "    def __init__(self, k=5):\n",
    "        self.k = k\n",
    "\n",
    "    def fit(self, X, y):\n",
    "        self.X = X\n",
    "        self.y = y\n",
    "        return self\n",
    "\n",
    "    def predict(self, X, distances=\"euclidean\"):\n",
    "        n_samples = X.shape[0]\n",
    "        predictions = np.empty(n_samples, dtype=object)\n",
    "\n",
    "        if distances == \"euclidean\":\n",
    "            for i in range(n_samples):\n",
    "                point_distances = np.sum(np.square(self.X - X[i, :]), axis=1)\n",
    "                idx = np.argpartition(point_distances, self.k)[: self.k]\n",
    "\n",
    "                values, counts = np.unique(self.y[idx], return_counts=True)\n",
    "\n",
    "                predictions[i] = values[np.argmax(counts)]\n",
    "        else:\n",
    "            for i in range(n_samples):\n",
    "                point_distances = self.distances[i, :]\n",
    "                idx = np.argpartition(point_distances, self.k)[: self.k]\n",
    "\n",
    "                values, counts = np.unique(self.y[idx], return_counts=True)\n",
    "\n",
    "                predictions[i] = values[np.argmax(counts)]\n",
    "\n",
    "        return predictions\n"
   ]
  },
  {
   "cell_type": "code",
   "execution_count": 5,
   "metadata": {},
   "outputs": [],
   "source": [
    "# Importing 3 classifiers from sciki-learn\n",
    "\n",
    "from sklearn.neighbors import KNeighborsClassifier\n",
    "from sklearn.tree import DecisionTreeClassifier\n",
    "from sklearn.ensemble import RandomForestClassifier\n"
   ]
  },
  {
   "cell_type": "code",
   "execution_count": 30,
   "metadata": {},
   "outputs": [
    {
     "name": "stdout",
     "output_type": "stream",
     "text": [
      "KNNClassifier(k=2): 0.59%\n",
      "KNNClassifier(k=10): 0.55%\n",
      "KNNClassifier(k=50): 0.48%\n",
      "KNNClassifier(k=100): 0.45%\n",
      "KNeighborsClassifier(n_neighbors=2): 0.59%\n",
      "KNeighborsClassifier(n_neighbors=10): 0.55%\n",
      "KNeighborsClassifier(n_neighbors=50): 0.48%\n",
      "KNeighborsClassifier(n_neighbors=100): 0.45%\n",
      "DecisionTreeClassifier(max_depth=2): 0.67%\n",
      "DecisionTreeClassifier(max_depth=10): 0.74%\n",
      "DecisionTreeClassifier(max_depth=50): 0.70%\n",
      "DecisionTreeClassifier(max_depth=100): 0.71%\n",
      "RandomForestClassifier(n_estimators=2): 0.71%\n",
      "RandomForestClassifier(n_estimators=10): 0.74%\n",
      "RandomForestClassifier(n_estimators=50): 0.79%\n",
      "RandomForestClassifier(n_estimators=100): 0.78%\n"
     ]
    }
   ],
   "source": [
    "# Testing the hyperparameters\n",
    "\n",
    "from sklearn.metrics import accuracy_score\n",
    "\n",
    "features = [\"carat\", \"depth\", \"table\", \"price\", \"x\", \"y\", \"z\"]\n",
    "target = \"cut\"\n",
    "\n",
    "estimators = []\n",
    "\n",
    "X_train, y_train = training[features].to_numpy(), training[target].to_numpy()\n",
    "X_validation, y_validation = (\n",
    "    validation[features].to_numpy()[:500],\n",
    "    validation[target].to_numpy()[:500],\n",
    ")\n",
    "\n",
    "for k in [2, 10, 50, 100]:\n",
    "    estimator = KNNClassifier(k=k)\n",
    "    estimator.fit(X_train, y_train)\n",
    "    predictions = estimator.predict(X_validation)\n",
    "\n",
    "    accuracy = accuracy_score(y_validation, predictions)\n",
    "    estimators.append((\"KNNClassifier\", k, accuracy))\n",
    "\n",
    "    print(f\"KNNClassifier(k={k}): {accuracy:.2f}%\")\n",
    "\n",
    "for k in [2, 10, 50, 100]:\n",
    "    estimator = KNeighborsClassifier(n_neighbors=k)\n",
    "    estimator.fit(X_train, y_train)\n",
    "    predictions = estimator.predict(X_validation)\n",
    "\n",
    "    accuracy = accuracy_score(y_validation, predictions)\n",
    "    estimators.append((\"KNeighborsClassifier\", k, accuracy))\n",
    "\n",
    "    print(f\"KNeighborsClassifier(n_neighbors={k}): {accuracy:.2f}%\")\n",
    "\n",
    "for k in [2, 10, 50, 100]:\n",
    "    estimator = DecisionTreeClassifier(max_depth=k)\n",
    "    estimator.fit(X_train, y_train)\n",
    "    predictions = estimator.predict(X_validation)\n",
    "\n",
    "    accuracy = accuracy_score(y_validation, predictions)\n",
    "    estimators.append((\"DecisionTreeClassifier\", k, accuracy))\n",
    "\n",
    "    print(f\"DecisionTreeClassifier(max_depth={k}): {accuracy:.2f}%\")\n",
    "\n",
    "for k in [2, 10, 50, 100]:\n",
    "    estimator = RandomForestClassifier(n_estimators=k)\n",
    "    estimator.fit(X_train, y_train)\n",
    "    predictions = estimator.predict(X_validation)\n",
    "\n",
    "    accuracy = accuracy_score(y_validation, predictions)\n",
    "    estimators.append((\"RandomForestClassifier\", k, accuracy))\n",
    "\n",
    "    print(f\"RandomForestClassifier(n_estimators={k}): {accuracy:.2f}%\")\n"
   ]
  },
  {
   "cell_type": "code",
   "execution_count": 40,
   "metadata": {},
   "outputs": [
    {
     "data": {
      "text/plain": [
       "{'KNNClassifier': (KNNClassifier(k=2), 0.594),\n",
       " 'KNeighborsClassifier': (KNeighborsClassifier(n_neighbors=2), 0.594),\n",
       " 'DecisionTreeClassifier': (DecisionTreeClassifier(max_depth=10), 0.744),\n",
       " 'RandomForestClassifier': (RandomForestClassifier(n_estimators=50), 0.786)}"
      ]
     },
     "execution_count": 40,
     "metadata": {},
     "output_type": "execute_result"
    }
   ],
   "source": [
    "# Selecting the best estimators\n",
    "\n",
    "best_estimators = {}\n",
    "\n",
    "for name, k, accuracy in estimators:\n",
    "    estimator = None\n",
    "\n",
    "    match name:\n",
    "        case \"KNNClassifier\":\n",
    "            estimator = KNNClassifier(k=k)\n",
    "        case \"KNeighborsClassifier\":\n",
    "            estimator = KNeighborsClassifier(n_neighbors=k)\n",
    "        case \"DecisionTreeClassifier\":\n",
    "            estimator = DecisionTreeClassifier(max_depth=k)\n",
    "        case \"RandomForestClassifier\":\n",
    "            estimator = RandomForestClassifier(n_estimators=k)\n",
    "\n",
    "    if name not in best_estimators:\n",
    "        best_estimators[name] = (estimator, accuracy)\n",
    "\n",
    "    if accuracy > best_estimators[name][1]:\n",
    "        best_estimators[name] = (estimator, accuracy)\n",
    "\n",
    "best_estimators\n"
   ]
  },
  {
   "cell_type": "code",
   "execution_count": 41,
   "metadata": {},
   "outputs": [
    {
     "data": {
      "text/html": [
       "<div>\n",
       "<style scoped>\n",
       "    .dataframe tbody tr th:only-of-type {\n",
       "        vertical-align: middle;\n",
       "    }\n",
       "\n",
       "    .dataframe tbody tr th {\n",
       "        vertical-align: top;\n",
       "    }\n",
       "\n",
       "    .dataframe thead th {\n",
       "        text-align: right;\n",
       "    }\n",
       "</style>\n",
       "<table border=\"1\" class=\"dataframe\">\n",
       "  <thead>\n",
       "    <tr style=\"text-align: right;\">\n",
       "      <th></th>\n",
       "      <th>estimator</th>\n",
       "      <th>accuracy</th>\n",
       "    </tr>\n",
       "  </thead>\n",
       "  <tbody>\n",
       "    <tr>\n",
       "      <th>0</th>\n",
       "      <td>KNNClassifier</td>\n",
       "      <td>0.557286</td>\n",
       "    </tr>\n",
       "    <tr>\n",
       "      <th>1</th>\n",
       "      <td>KNeighborsClassifier</td>\n",
       "      <td>0.557286</td>\n",
       "    </tr>\n",
       "    <tr>\n",
       "      <th>2</th>\n",
       "      <td>DecisionTreeClassifier</td>\n",
       "      <td>0.742677</td>\n",
       "    </tr>\n",
       "    <tr>\n",
       "      <th>3</th>\n",
       "      <td>RandomForestClassifier</td>\n",
       "      <td>0.772525</td>\n",
       "    </tr>\n",
       "  </tbody>\n",
       "</table>\n",
       "</div>"
      ],
      "text/plain": [
       "                estimator  accuracy\n",
       "0           KNNClassifier  0.557286\n",
       "1    KNeighborsClassifier  0.557286\n",
       "2  DecisionTreeClassifier  0.742677\n",
       "3  RandomForestClassifier  0.772525"
      ]
     },
     "execution_count": 41,
     "metadata": {},
     "output_type": "execute_result"
    }
   ],
   "source": [
    "# Getting the final accuracies\n",
    "\n",
    "accuracies = pd.DataFrame(columns=[\"estimator\", \"accuracy\"])\n",
    "\n",
    "X = np.concatenate((X_train, X_validation))\n",
    "y = np.concatenate((y_train, y_validation))\n",
    "\n",
    "X_test = testing[features].to_numpy()\n",
    "y_test = testing[target].to_numpy()\n",
    "\n",
    "for name, (estimator, _) in best_estimators.items():\n",
    "    estimator.fit(X, y)\n",
    "    predictions = estimator.predict(X_test)\n",
    "\n",
    "    accuracy = accuracy_score(y_test, predictions)\n",
    "\n",
    "    accuracies = pd.concat(\n",
    "        [accuracies, pd.DataFrame({\"estimator\": [name], \"accuracy\": [accuracy]})],\n",
    "        axis=0,\n",
    "        ignore_index=True,\n",
    "    )\n",
    "\n",
    "accuracies\n"
   ]
  },
  {
   "cell_type": "code",
   "execution_count": 46,
   "metadata": {},
   "outputs": [
    {
     "data": {
      "text/plain": [
       "<AxesSubplot:xlabel='estimator', ylabel='accuracy'>"
      ]
     },
     "execution_count": 46,
     "metadata": {},
     "output_type": "execute_result"
    },
    {
     "data": {
      "image/png": "[encoded data removed]",
      "text/plain": [
       "<Figure size 1152x432 with 1 Axes>"
      ]
     },
     "metadata": {
      "needs_background": "light"
     },
     "output_type": "display_data"
    }
   ],
   "source": [
    "# Plotting the accuracies\n",
    "\n",
    "import seaborn as sns\n",
    "import matplotlib.pyplot as plt\n",
    "\n",
    "fig, ax = plt.subplots(figsize=(16, 6))\n",
    "sns.barplot(data=accuracies, x=\"estimator\", y=\"accuracy\", palette=\"Blues_d\", ax=ax)\n"
   ]
  },
  {
   "cell_type": "markdown",
   "metadata": {},
   "source": [
    "2 - For the regression problem (you developed the estimator in Part 2) you will predict the \"price\" using the remaining numerical features. The steps to implement are:\n",
    "- Select 3 regressors from the scikit-learn library (you can pick any regressor of your\n",
    "choice, including those not seen in class yet).\n",
    "- For each model (your model as well as the scikit-learn ones), use the training and\n",
    "validation sets to choose the best hyperparameters.\n",
    "- Combine the training and validation sets into a single set and use it to train the models\n",
    "with the chosen hyperparameters.\n",
    "- Compare the performance of the different estimators using the Root Mean Square Error\n",
    "score.\n",
    "- Make a plot that shows this comparison (here you can use any type of plot you like, as\n",
    "long as the comparison is clear)."
   ]
  },
  {
   "cell_type": "code",
   "execution_count": 1,
   "metadata": {},
   "outputs": [],
   "source": [
    "# Doing everything done in part-3.ipynb\n",
    "\n",
    "import pandas as pd\n",
    "import numpy as np\n",
    "from sklearn.base import BaseEstimator\n",
    "\n",
    "diamonds_dataset = pd.read_csv(\"../data/diamonds.csv\")\n",
    "\n",
    "n = len(diamonds_dataset)\n",
    "splits = [int(0.8 * n), int(0.9 * n)]\n",
    "training, validation, testing = np.split(diamonds_dataset.sample(frac=1), splits)\n",
    "\n",
    "\n",
    "class LinearRegression(BaseEstimator):\n",
    "    def __init__(\n",
    "        self, solver: str = \"sgd\", max_iter: int = 100, learning_rate: float = 0.0001\n",
    "    ):\n",
    "        self.solver = solver\n",
    "        self.max_iter = max_iter\n",
    "        self.learning_rate = learning_rate\n",
    "\n",
    "    def _fit_cf(self, X: np.ndarray, y: np.ndarray):\n",
    "        n = X.shape[0]\n",
    "        regularization_term = np.sqrt(np.sum(np.square(X)) / n)\n",
    "\n",
    "        lambda_I = np.eye(X.shape[1]) * regularization_term\n",
    "        w = np.linalg.inv(X.T @ X + lambda_I) @ X.T @ y\n",
    "\n",
    "        return w\n",
    "\n",
    "    def _fit_sgd(self, X: np.ndarray, y: np.ndarray):\n",
    "        n_samples, n_features = X.shape\n",
    "        w = np.zeros(n_features)\n",
    "\n",
    "        for i in range(self.max_iter):\n",
    "            for j in range(n_samples):\n",
    "                gradient = (y[j] - w @ X[j]) * X[j]\n",
    "                w += self.learning_rate * gradient\n",
    "\n",
    "        return w\n",
    "\n",
    "    def fit(self, X: np.ndarray, y: np.ndarray):\n",
    "        n = X.shape[0]\n",
    "        X_ = np.c_[np.ones(n), X]\n",
    "\n",
    "        if self.solver == \"cf\":\n",
    "            self.w = self._fit_cf(X_, y)\n",
    "        elif self.solver == \"sgd\":\n",
    "            self.w = self._fit_sgd(X_, y)\n",
    "        else:\n",
    "            raise ValueError(\"Solver not implemented\")\n",
    "\n",
    "    def predict(self, X):\n",
    "        X_ = np.c_[np.ones(len(X)), X]\n",
    "        return X_ @ self.w\n",
    "\n"
   ]
  },
  {
   "cell_type": "code",
   "execution_count": 2,
   "metadata": {},
   "outputs": [],
   "source": [
    "# Importing 3 regressors from scikit-learn\n",
    "\n",
    "from sklearn.tree import DecisionTreeRegressor\n",
    "from sklearn.svm import LinearSVR\n",
    "from sklearn.ensemble import GradientBoostingRegressor\n"
   ]
  },
  {
   "cell_type": "code",
   "execution_count": 4,
   "metadata": {},
   "outputs": [
    {
     "name": "stdout",
     "output_type": "stream",
     "text": [
      "LinearRegression(max_iter=2): 2063.43\n",
      "LinearRegression(max_iter=10): 1833.52\n",
      "LinearRegression(max_iter=50): 1581.56\n",
      "LinearRegression(max_iter=100): 1562.44\n",
      "DecisionTreeRegressor(min_samples_leaf=2): 1798.42\n",
      "DecisionTreeRegressor(min_samples_leaf=10): 1507.94\n",
      "DecisionTreeRegressor(min_samples_leaf=50): 1335.14\n",
      "DecisionTreeRegressor(min_samples_leaf=100): 1377.58\n",
      "DecisionTreeRegressor(min_samples_leaf=500): 1380.07\n",
      "LinearSVR(epsilon=2): 1976.99\n",
      "LinearSVR(epsilon=100): 1974.07\n",
      "LinearSVR(epsilon=500): 1907.48\n",
      "LinearSVR(epsilon=2000): 1796.88\n",
      "LinearSVR(epsilon=5000): 3572.73\n",
      "GradientBoostingRegressor(n_estimators=2): 3377.02\n",
      "GradientBoostingRegressor(n_estimators=10): 1923.07\n",
      "GradientBoostingRegressor(n_estimators=50): 1334.65\n",
      "GradientBoostingRegressor(n_estimators=100): 1315.90\n",
      "GradientBoostingRegressor(n_estimators=500): 1322.82\n"
     ]
    }
   ],
   "source": [
    "# Testing the hyperparameters\n",
    "\n",
    "from sklearn.metrics import mean_squared_error\n",
    "\n",
    "\n",
    "def rmse(y_true: np.ndarray, y_pred: np.ndarray):\n",
    "    return mean_squared_error(y_true, y_pred, squared=False)\n",
    "\n",
    "\n",
    "features = [\"carat\", \"depth\", \"table\", \"x\", \"y\", \"z\"]\n",
    "target = \"price\"\n",
    "\n",
    "estimators = []\n",
    "\n",
    "X_train, y_train = training[features].to_numpy(), training[target].to_numpy()\n",
    "X_validation, y_validation = (\n",
    "    validation[features].to_numpy()[:500],\n",
    "    validation[target].to_numpy()[:500],\n",
    ")\n",
    "\n",
    "for k in [2, 10, 50, 100]:\n",
    "    estimator = LinearRegression(solver=\"sgd\", max_iter=k)\n",
    "    estimator.fit(X_train, y_train)\n",
    "    predictions = estimator.predict(X_validation)\n",
    "\n",
    "    error = rmse(y_validation, predictions)\n",
    "    estimators.append((\"LinearRegression\", k, error))\n",
    "\n",
    "    print(f\"LinearRegression(max_iter={k}): {error:.2f}\")\n",
    "\n",
    "for k in [2, 10, 50, 100, 500]:\n",
    "    estimator = DecisionTreeRegressor(min_samples_leaf=k)\n",
    "    estimator.fit(X_train, y_train)\n",
    "    predictions = estimator.predict(X_validation)\n",
    "\n",
    "    error = rmse(y_validation, predictions)\n",
    "    estimators.append((\"DecisionTreeRegressor\", k, error))\n",
    "\n",
    "    print(f\"DecisionTreeRegressor(min_samples_leaf={k}): {error:.2f}\")\n",
    "\n",
    "for k in [2, 100, 500, 2000, 5000]:\n",
    "    estimator = LinearSVR(epsilon=k)\n",
    "    estimator.fit(X_train, y_train)\n",
    "    predictions = estimator.predict(X_validation)\n",
    "\n",
    "    error = rmse(y_validation, predictions)\n",
    "    estimators.append((\"LinearSVR\", k, error))\n",
    "\n",
    "    print(f\"LinearSVR(epsilon={k}): {error:.2f}\")\n",
    "\n",
    "for k in [2, 10, 50, 100, 500]:\n",
    "    estimator = GradientBoostingRegressor(n_estimators=k)\n",
    "    estimator.fit(X_train, y_train)\n",
    "    predictions = estimator.predict(X_validation)\n",
    "\n",
    "    error = rmse(y_validation, predictions)\n",
    "    estimators.append((\"GradientBoostingRegressor\", k, error))\n",
    "\n",
    "    print(f\"GradientBoostingRegressor(n_estimators={k}): {error:.2f}\")\n"
   ]
  },
  {
   "cell_type": "code",
   "execution_count": 5,
   "metadata": {},
   "outputs": [
    {
     "data": {
      "text/plain": [
       "{'LinearRegression': (LinearRegression(), 1562.4387418037095),\n",
       " 'DecisionTreeRegressor': (DecisionTreeRegressor(min_samples_leaf=50),\n",
       "  1335.1430831919909),\n",
       " 'LinearSVR': (LinearSVR(epsilon=2000), 1796.8837323138614),\n",
       " 'GradientBoostingRegressor': (GradientBoostingRegressor(),\n",
       "  1315.8974813097889)}"
      ]
     },
     "execution_count": 5,
     "metadata": {},
     "output_type": "execute_result"
    }
   ],
   "source": [
    "# Selecting the best estimators\n",
    "\n",
    "best_estimators = {}\n",
    "\n",
    "for name, k, error in estimators:\n",
    "    estimator = None\n",
    "\n",
    "    match name:\n",
    "        case \"LinearRegression\":\n",
    "            estimator = LinearRegression(solver=\"sgd\", max_iter=k)\n",
    "        case \"DecisionTreeRegressor\":\n",
    "            estimator = DecisionTreeRegressor(min_samples_leaf=k)\n",
    "        case \"LinearSVR\":\n",
    "            estimator = LinearSVR(epsilon=k)\n",
    "        case \"GradientBoostingRegressor\":\n",
    "            estimator = GradientBoostingRegressor(n_estimators=k)\n",
    "\n",
    "    if name not in best_estimators:\n",
    "        best_estimators[name] = (estimator, error)\n",
    "\n",
    "    if error < best_estimators[name][1]:\n",
    "        best_estimators[name] = (estimator, error)\n",
    "\n",
    "best_estimators\n"
   ]
  },
  {
   "cell_type": "code",
   "execution_count": 6,
   "metadata": {},
   "outputs": [
    {
     "data": {
      "text/html": [
       "<div>\n",
       "<style scoped>\n",
       "    .dataframe tbody tr th:only-of-type {\n",
       "        vertical-align: middle;\n",
       "    }\n",
       "\n",
       "    .dataframe tbody tr th {\n",
       "        vertical-align: top;\n",
       "    }\n",
       "\n",
       "    .dataframe thead th {\n",
       "        text-align: right;\n",
       "    }\n",
       "</style>\n",
       "<table border=\"1\" class=\"dataframe\">\n",
       "  <thead>\n",
       "    <tr style=\"text-align: right;\">\n",
       "      <th></th>\n",
       "      <th>estimator</th>\n",
       "      <th>error</th>\n",
       "    </tr>\n",
       "  </thead>\n",
       "  <tbody>\n",
       "    <tr>\n",
       "      <th>0</th>\n",
       "      <td>LinearRegression</td>\n",
       "      <td>1516.279192</td>\n",
       "    </tr>\n",
       "    <tr>\n",
       "      <th>1</th>\n",
       "      <td>DecisionTreeRegressor</td>\n",
       "      <td>1361.087842</td>\n",
       "    </tr>\n",
       "    <tr>\n",
       "      <th>2</th>\n",
       "      <td>LinearSVR</td>\n",
       "      <td>1783.632612</td>\n",
       "    </tr>\n",
       "    <tr>\n",
       "      <th>3</th>\n",
       "      <td>GradientBoostingRegressor</td>\n",
       "      <td>1322.456299</td>\n",
       "    </tr>\n",
       "  </tbody>\n",
       "</table>\n",
       "</div>"
      ],
      "text/plain": [
       "                   estimator        error\n",
       "0           LinearRegression  1516.279192\n",
       "1      DecisionTreeRegressor  1361.087842\n",
       "2                  LinearSVR  1783.632612\n",
       "3  GradientBoostingRegressor  1322.456299"
      ]
     },
     "execution_count": 6,
     "metadata": {},
     "output_type": "execute_result"
    }
   ],
   "source": [
    "# Getting the final errors\n",
    "\n",
    "errors = pd.DataFrame(columns=[\"estimator\", \"error\"])\n",
    "\n",
    "X = np.concatenate((X_train, X_validation))\n",
    "y = np.concatenate((y_train, y_validation))\n",
    "\n",
    "X_test = testing[features].to_numpy()\n",
    "y_test = testing[target].to_numpy()\n",
    "\n",
    "for name, (estimator, _) in best_estimators.items():\n",
    "    estimator.fit(X, y)\n",
    "    predictions = estimator.predict(X_test)\n",
    "\n",
    "    error = rmse(y_test, predictions)\n",
    "\n",
    "    errors = pd.concat(\n",
    "        [errors, pd.DataFrame({\"estimator\": [name], \"error\": [error]})],\n",
    "        axis=0,\n",
    "        ignore_index=True,\n",
    "    )\n",
    "\n",
    "errors\n"
   ]
  },
  {
   "cell_type": "code",
   "execution_count": 7,
   "metadata": {},
   "outputs": [
    {
     "data": {
      "text/plain": [
       "<AxesSubplot:xlabel='estimator', ylabel='error'>"
      ]
     },
     "execution_count": 7,
     "metadata": {},
     "output_type": "execute_result"
    },
    {
     "data": {
      "image/png": "[encoded data removed]",
      "text/plain": [
       "<Figure size 1152x432 with 1 Axes>"
      ]
     },
     "metadata": {
      "needs_background": "light"
     },
     "output_type": "display_data"
    }
   ],
   "source": [
    "# Plotting the accuracies\n",
    "\n",
    "import seaborn as sns\n",
    "import matplotlib.pyplot as plt\n",
    "\n",
    "data = errors.sort_values(by=\"error\")\n",
    "fig, ax = plt.subplots(figsize=(16, 6))\n",
    "sns.barplot(data=data, x=\"estimator\", y=\"error\", palette=\"flare\", ax=ax)\n"
   ]
  }
 ],
 "metadata": {
  "interpreter": {
   "hash": "328aee3b155a068886fab24c8a017cee24eb81c3e59bc834938456388e09f401"
  },
  "kernelspec": {
   "display_name": "Python 3.10.2 64-bit",
   "language": "python",
   "name": "python3"
  },
  "language_info": {
   "codemirror_mode": {
    "name": "ipython",
    "version": 3
   },
   "file_extension": ".py",
   "mimetype": "text/x-python",
   "name": "python",
   "nbconvert_exporter": "python",
   "pygments_lexer": "ipython3",
   "version": "3.10.2"
  },
  "orig_nbformat": 4
 },
 "nbformat": 4,
 "nbformat_minor": 2
}
